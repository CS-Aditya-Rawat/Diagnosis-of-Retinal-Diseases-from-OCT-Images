{
 "cells": [
  {
   "attachments": {},
   "cell_type": "markdown",
   "metadata": {
    "id": "TfWEgbPgblp3"
   },
   "source": [
    "## Import relevant libraries "
   ]
  },
  {
   "cell_type": "code",
   "execution_count": 5,
   "metadata": {
    "id": "Io5NCIV7bkl3"
   },
   "outputs": [],
   "source": [
    "import warnings\n",
    "warnings.filterwarnings(\"ignore\")\n",
    "import os\n",
    "from keras.preprocessing.image import ImageDataGenerator\n",
    "import tensorflow as tf\n",
    "from tensorflow.keras.layers import Input, Conv2D, BatchNormalization, MaxPooling2D, Dropout, GlobalAveragePooling2D, Dense\n",
    "from tensorflow.keras.models import Model\n",
    "from tensorflow.keras.callbacks import EarlyStopping, ModelCheckpoint, ReduceLROnPlateau\n",
    "import matplotlib.pyplot as plt\n",
    "from sklearn.metrics import confusion_matrix\n",
    "import numpy as np\n",
    "import seaborn as sns"
   ]
  },
  {
   "attachments": {},
   "cell_type": "markdown",
   "metadata": {
    "id": "cxKEDCgz6z0K"
   },
   "source": [
    "## Apply CNN Model with 7 Layers with Image Augmentation"
   ]
  },
  {
   "cell_type": "code",
   "execution_count": 6,
   "metadata": {
    "colab": {
     "base_uri": "https://localhost:8080/"
    },
    "id": "8vw6FVrd6qjz",
    "outputId": "d7eda847-199d-4a24-d543-b26598d57b19"
   },
   "outputs": [
    {
     "name": "stdout",
     "output_type": "stream",
     "text": [
      "Found 66788 images belonging to 4 classes.\n",
      "Found 16696 images belonging to 4 classes.\n"
     ]
    }
   ],
   "source": [
    "# Reference: https://www.tensorflow.org/api_docs/python/tf/keras/preprocessing/image/ImageDataGenerator \n",
    "# Reference: https://stackoverflow.com/questions/53037510/can-flow-from-directory-get-train-and-validation-data-from-the-same-directory-in\n",
    "\n",
    "# generate batches of tensor image data with real-time data augmentation\n",
    "\n",
    "datagen=ImageDataGenerator(rescale=1./255,\n",
    "        shear_range=0.2,\n",
    "        zoom_range=0.2,\n",
    "        horizontal_flip=True,\n",
    "        validation_split=0.2)\n",
    "\n",
    "train_generator = datagen.flow_from_directory(\n",
    "    \"/OCT2017 /train\",\n",
    "    target_size = (224, 224),\n",
    "    batch_size=128,\n",
    "    class_mode = \"categorical\",\n",
    "    subset=\"training\")\n",
    "\n",
    "validation_generator = datagen.flow_from_directory(\n",
    "    \"/OCT2017 /train\",\n",
    "    target_size = (224, 224),\n",
    "    batch_size=128,\n",
    "    class_mode = \"categorical\",\n",
    "    subset=\"validation\")"
   ]
  },
  {
   "cell_type": "code",
   "execution_count": 7,
   "metadata": {
    "id": "zHazHC097SNO"
   },
   "outputs": [],
   "source": [
    "tf.keras.backend.clear_session()"
   ]
  },
  {
   "cell_type": "code",
   "execution_count": 8,
   "metadata": {
    "id": "B0cmWrbs7STe"
   },
   "outputs": [],
   "source": [
    "# Reference: https://keras.io/api/layers/convolution_layers/convolution2d/\n",
    "# Reference: https://keras.io/api/layers/normalization_layers/batch_normalization/\n",
    "# Reference: https://keras.io/api/layers/pooling_layers/max_pooling2d/\n",
    "# Reference: https://keras.io/api/layers/regularization_layers/dropout/\n",
    "# Reference: https://keras.io/api/layers/pooling_layers/global_average_pooling2d/\n",
    "# Reference: https://keras.io/api/layers/core_layers/dense/\n",
    "\n",
    "\n",
    "input_shape = (224,224,3)\n",
    "\n",
    "# Input Layer\n",
    "Input_Layer = Input(shape=(input_shape))\n",
    "\n",
    "# Convolutional Layer\n",
    "First_Conv2D = Conv2D(32, kernel_size = (3, 3), activation=\"relu\",padding = 'same')(Input_Layer)\n",
    "# Batch Normalization\n",
    "First_BatchNormalization = BatchNormalization()(First_Conv2D)\n",
    "\n",
    "# Convolutional Layer\n",
    "Second_Conv2D = Conv2D(32, kernel_size = (3, 3), activation=\"relu\",padding = 'same')(First_BatchNormalization)\n",
    "# Batch Normalization\n",
    "Second_BatchNormalization = BatchNormalization()(Second_Conv2D)\n",
    "\n",
    "# MaxPool Layer\n",
    "maxpool = MaxPooling2D(pool_size=(2,2))(Second_BatchNormalization)\n",
    "# Dropout Layer\n",
    "dropout = Dropout(rate=0.2)(maxpool)\n",
    "\n",
    "# Convolutional Layer\n",
    "Third_Conv2D = Conv2D(64, kernel_size = (3, 3), activation=\"relu\",padding = 'same')(dropout)\n",
    "# Batch Normalization\n",
    "Third_BatchNormalization = BatchNormalization()(Third_Conv2D)\n",
    "\n",
    "# Convolutional Layer\n",
    "Fourth_Conv2D = Conv2D(64, kernel_size = (3, 3), activation=\"relu\",padding = 'same')(Third_BatchNormalization)\n",
    "# Batch Normalization\n",
    "Fourth_BatchNormalization = BatchNormalization()(Fourth_Conv2D)\n",
    "\n",
    "# MaxPool Layer\n",
    "maxpool = MaxPooling2D(pool_size=(2,2))(Fourth_BatchNormalization)\n",
    "# Dropout Layer\n",
    "dropout = Dropout(rate=0.2)(maxpool)\n",
    "\n",
    "# Convolutional Layer\n",
    "Fifth_Conv2D = Conv2D(128, kernel_size = (3, 3), activation=\"relu\",padding = 'same')(dropout)\n",
    "# Batch Normalization\n",
    "Fifth_BatchNormalization = BatchNormalization()(Fifth_Conv2D)\n",
    "\n",
    "# Convolutional Layer\n",
    "Sixth_Conv2D = Conv2D(128, kernel_size = (3, 3), activation=\"relu\",padding = 'same')(Fifth_BatchNormalization)\n",
    "# Batch Normalization\n",
    "Sixth_BatchNormalization = BatchNormalization()(Sixth_Conv2D)\n",
    "\n",
    "# MaxPool Layer\n",
    "maxpool = MaxPooling2D(pool_size=(2,2))(Sixth_BatchNormalization)\n",
    "# Dropout Layer\n",
    "dropout = Dropout(rate=0.2)(maxpool)\n",
    "\n",
    "# Convolutional Layer\n",
    "Seventh_Conv2D = Conv2D(256, kernel_size = (3, 3), activation=\"relu\",padding = 'same')(dropout)\n",
    "# Batch Normalization\n",
    "Seventh_BatchNormalization = BatchNormalization()(Seventh_Conv2D)\n",
    "\n",
    "# GlobalAveragePooling Layer\n",
    "global_average_pool = GlobalAveragePooling2D()(Seventh_BatchNormalization)\n",
    "\n",
    "# Dense Layer\n",
    "Output_Layer = Dense(4, activation=\"softmax\")(global_average_pool)\n",
    "\n",
    "# Creating a model\n",
    "model2 = Model(inputs=Input_Layer,outputs=Output_Layer)"
   ]
  },
  {
   "cell_type": "code",
   "execution_count": 9,
   "metadata": {
    "colab": {
     "base_uri": "https://localhost:8080/"
    },
    "id": "KTTAwgxS7SWd",
    "outputId": "27305c0c-6dba-4af6-869a-4dcf464c754e"
   },
   "outputs": [
    {
     "name": "stdout",
     "output_type": "stream",
     "text": [
      "Model: \"model\"\n",
      "_________________________________________________________________\n",
      " Layer (type)                Output Shape              Param #   \n",
      "=================================================================\n",
      " input_1 (InputLayer)        [(None, 224, 224, 3)]     0         \n",
      "                                                                 \n",
      " conv2d (Conv2D)             (None, 224, 224, 32)      896       \n",
      "                                                                 \n",
      " batch_normalization (BatchN  (None, 224, 224, 32)     128       \n",
      " ormalization)                                                   \n",
      "                                                                 \n",
      " conv2d_1 (Conv2D)           (None, 224, 224, 32)      9248      \n",
      "                                                                 \n",
      " batch_normalization_1 (Batc  (None, 224, 224, 32)     128       \n",
      " hNormalization)                                                 \n",
      "                                                                 \n",
      " max_pooling2d (MaxPooling2D  (None, 112, 112, 32)     0         \n",
      " )                                                               \n",
      "                                                                 \n",
      " dropout (Dropout)           (None, 112, 112, 32)      0         \n",
      "                                                                 \n",
      " conv2d_2 (Conv2D)           (None, 112, 112, 64)      18496     \n",
      "                                                                 \n",
      " batch_normalization_2 (Batc  (None, 112, 112, 64)     256       \n",
      " hNormalization)                                                 \n",
      "                                                                 \n",
      " conv2d_3 (Conv2D)           (None, 112, 112, 64)      36928     \n",
      "                                                                 \n",
      " batch_normalization_3 (Batc  (None, 112, 112, 64)     256       \n",
      " hNormalization)                                                 \n",
      "                                                                 \n",
      " max_pooling2d_1 (MaxPooling  (None, 56, 56, 64)       0         \n",
      " 2D)                                                             \n",
      "                                                                 \n",
      " dropout_1 (Dropout)         (None, 56, 56, 64)        0         \n",
      "                                                                 \n",
      " conv2d_4 (Conv2D)           (None, 56, 56, 128)       73856     \n",
      "                                                                 \n",
      " batch_normalization_4 (Batc  (None, 56, 56, 128)      512       \n",
      " hNormalization)                                                 \n",
      "                                                                 \n",
      " conv2d_5 (Conv2D)           (None, 56, 56, 128)       147584    \n",
      "                                                                 \n",
      " batch_normalization_5 (Batc  (None, 56, 56, 128)      512       \n",
      " hNormalization)                                                 \n",
      "                                                                 \n",
      " max_pooling2d_2 (MaxPooling  (None, 28, 28, 128)      0         \n",
      " 2D)                                                             \n",
      "                                                                 \n",
      " dropout_2 (Dropout)         (None, 28, 28, 128)       0         \n",
      "                                                                 \n",
      " conv2d_6 (Conv2D)           (None, 28, 28, 256)       295168    \n",
      "                                                                 \n",
      " batch_normalization_6 (Batc  (None, 28, 28, 256)      1024      \n",
      " hNormalization)                                                 \n",
      "                                                                 \n",
      " global_average_pooling2d (G  (None, 256)              0         \n",
      " lobalAveragePooling2D)                                          \n",
      "                                                                 \n",
      " dense (Dense)               (None, 4)                 1028      \n",
      "                                                                 \n",
      "=================================================================\n",
      "Total params: 586,020\n",
      "Trainable params: 584,612\n",
      "Non-trainable params: 1,408\n",
      "_________________________________________________________________\n"
     ]
    }
   ],
   "source": [
    "model2.summary()"
   ]
  },
  {
   "cell_type": "code",
   "execution_count": 10,
   "metadata": {
    "colab": {
     "base_uri": "https://localhost:8080/"
    },
    "id": "cU89aRBWv0zB",
    "outputId": "00438720-651b-4589-ad93-ae30c8d124be"
   },
   "outputs": [
    {
     "name": "stdout",
     "output_type": "stream",
     "text": [
      "Epoch 1/50\n",
      "521/521 [==============================] - ETA: 0s - loss: 0.4440 - accuracy: 0.8405\n",
      "Epoch 1: val_accuracy improved from -inf to 0.73664, saving model to model2_with_augmentation_save/weights-01-0.7366.hdf5\n",
      "521/521 [==============================] - 1241s 2s/step - loss: 0.4440 - accuracy: 0.8405 - val_loss: 0.8730 - val_accuracy: 0.7366\n",
      "Epoch 2/50\n",
      "521/521 [==============================] - ETA: 0s - loss: 0.2231 - accuracy: 0.9235\n",
      "Epoch 2: val_accuracy improved from 0.73664 to 0.92651, saving model to model2_with_augmentation_save/weights-02-0.9265.hdf5\n",
      "521/521 [==============================] - 1159s 2s/step - loss: 0.2231 - accuracy: 0.9235 - val_loss: 0.2186 - val_accuracy: 0.9265\n",
      "Epoch 3/50\n",
      "521/521 [==============================] - ETA: 0s - loss: 0.1888 - accuracy: 0.9362\n",
      "Epoch 3: val_accuracy improved from 0.92651 to 0.93256, saving model to model2_with_augmentation_save/weights-03-0.9326.hdf5\n",
      "521/521 [==============================] - 1146s 2s/step - loss: 0.1888 - accuracy: 0.9362 - val_loss: 0.1922 - val_accuracy: 0.9326\n",
      "Epoch 4/50\n",
      "521/521 [==============================] - ETA: 0s - loss: 0.1686 - accuracy: 0.9422\n",
      "Epoch 4: val_accuracy did not improve from 0.93256\n",
      "521/521 [==============================] - 1114s 2s/step - loss: 0.1686 - accuracy: 0.9422 - val_loss: 0.2739 - val_accuracy: 0.9118\n",
      "Epoch 5/50\n",
      "521/521 [==============================] - ETA: 0s - loss: 0.1576 - accuracy: 0.9464\n",
      "Epoch 5: val_accuracy did not improve from 0.93256\n",
      "521/521 [==============================] - 1118s 2s/step - loss: 0.1576 - accuracy: 0.9464 - val_loss: 0.2601 - val_accuracy: 0.9079\n",
      "Epoch 6/50\n",
      "521/521 [==============================] - ETA: 0s - loss: 0.1512 - accuracy: 0.9479\n",
      "Epoch 6: val_accuracy did not improve from 0.93256\n",
      "521/521 [==============================] - 1113s 2s/step - loss: 0.1512 - accuracy: 0.9479 - val_loss: 0.2147 - val_accuracy: 0.9313\n",
      "Epoch 7/50\n",
      "521/521 [==============================] - ETA: 0s - loss: 0.1391 - accuracy: 0.9522\n",
      "Epoch 7: val_accuracy improved from 0.93256 to 0.94005, saving model to model2_with_augmentation_save/weights-07-0.9400.hdf5\n",
      "521/521 [==============================] - 1126s 2s/step - loss: 0.1391 - accuracy: 0.9522 - val_loss: 0.1801 - val_accuracy: 0.9400\n",
      "Epoch 8/50\n",
      "521/521 [==============================] - ETA: 0s - loss: 0.1360 - accuracy: 0.9542\n",
      "Epoch 8: val_accuracy did not improve from 0.94005\n",
      "521/521 [==============================] - 1131s 2s/step - loss: 0.1360 - accuracy: 0.9542 - val_loss: 0.2948 - val_accuracy: 0.9039\n",
      "Epoch 9/50\n",
      "521/521 [==============================] - ETA: 0s - loss: 0.1276 - accuracy: 0.9559\n",
      "Epoch 9: val_accuracy improved from 0.94005 to 0.94017, saving model to model2_with_augmentation_save/weights-09-0.9402.hdf5\n",
      "521/521 [==============================] - 1101s 2s/step - loss: 0.1276 - accuracy: 0.9559 - val_loss: 0.1793 - val_accuracy: 0.9402\n",
      "Epoch 10/50\n",
      "521/521 [==============================] - ETA: 0s - loss: 0.1234 - accuracy: 0.9583\n",
      "Epoch 10: val_accuracy improved from 0.94017 to 0.95214, saving model to model2_with_augmentation_save/weights-10-0.9521.hdf5\n",
      "521/521 [==============================] - 1093s 2s/step - loss: 0.1234 - accuracy: 0.9583 - val_loss: 0.1431 - val_accuracy: 0.9521\n",
      "Epoch 11/50\n",
      "521/521 [==============================] - ETA: 0s - loss: 0.1168 - accuracy: 0.9599\n",
      "Epoch 11: val_accuracy did not improve from 0.95214\n",
      "521/521 [==============================] - 1068s 2s/step - loss: 0.1168 - accuracy: 0.9599 - val_loss: 0.1667 - val_accuracy: 0.9417\n",
      "Epoch 12/50\n",
      "521/521 [==============================] - ETA: 0s - loss: 0.1152 - accuracy: 0.9611\n",
      "Epoch 12: val_accuracy did not improve from 0.95214\n",
      "521/521 [==============================] - 1076s 2s/step - loss: 0.1152 - accuracy: 0.9611 - val_loss: 0.3727 - val_accuracy: 0.8917\n",
      "Epoch 13/50\n",
      "521/521 [==============================] - ETA: 0s - loss: 0.1121 - accuracy: 0.9617\n",
      "Epoch 13: val_accuracy did not improve from 0.95214\n",
      "521/521 [==============================] - 1078s 2s/step - loss: 0.1121 - accuracy: 0.9617 - val_loss: 0.1580 - val_accuracy: 0.9463\n",
      "Epoch 14/50\n",
      "521/521 [==============================] - ETA: 0s - loss: 0.1057 - accuracy: 0.9637\n",
      "Epoch 14: val_accuracy did not improve from 0.95214\n",
      "521/521 [==============================] - 1075s 2s/step - loss: 0.1057 - accuracy: 0.9637 - val_loss: 0.1709 - val_accuracy: 0.9447\n",
      "Epoch 15/50\n",
      "521/521 [==============================] - ETA: 0s - loss: 0.1051 - accuracy: 0.9636\n",
      "Epoch 15: val_accuracy did not improve from 0.95214\n",
      "521/521 [==============================] - 1101s 2s/step - loss: 0.1051 - accuracy: 0.9636 - val_loss: 0.4228 - val_accuracy: 0.8816\n",
      "Epoch 15: early stopping\n"
     ]
    },
    {
     "data": {
      "text/plain": [
       "<keras.callbacks.History at 0x7f974fa3b9d0>"
      ]
     },
     "execution_count": 10,
     "metadata": {},
     "output_type": "execute_result"
    }
   ],
   "source": [
    "earlystop = EarlyStopping(monitor='val_accuracy', min_delta=0, patience=5, verbose=1)\n",
    "\n",
    "# Creating model2_with_augmentation_save folder before running the code.\n",
    "filepath=\"model2_with_augmentation_save/weights-{epoch:02d}-{val_accuracy:.4f}.hdf5\"\n",
    "checkpoint = ModelCheckpoint(filepath=filepath, monitor='val_accuracy',verbose=1, save_best_only=True, mode='max')\n",
    "\n",
    "# Callbacks\n",
    "optimizer = tf.keras.optimizers.Adam()\n",
    "model2.compile(optimizer=optimizer,loss=\"categorical_crossentropy\",metrics=[\"accuracy\"])\n",
    "\n",
    "# Creating a list with all the callbacks we want\n",
    "callback_list = [earlystop, checkpoint]\n",
    "\n",
    "train_samples = 66788\n",
    "validation_samples = 16696\n",
    "batch_size = 128\n",
    "model2.fit(train_generator, validation_data= validation_generator, steps_per_epoch=train_samples//batch_size, callbacks=callback_list, epochs=50)"
   ]
  },
  {
   "cell_type": "code",
   "execution_count": 11,
   "metadata": {
    "colab": {
     "base_uri": "https://localhost:8080/",
     "height": 231
    },
    "id": "FD9Bd4bH7ScN",
    "outputId": "da0d815b-c767-4de8-81eb-1a4b72b2e362"
   },
   "outputs": [
    {
     "data": {
      "image/png": "[encoded data removed]",
      "text/plain": [
       "<Figure size 2160x360 with 2 Axes>"
      ]
     },
     "metadata": {
      "needs_background": "light"
     },
     "output_type": "display_data"
    }
   ],
   "source": [
    "# Plot training & validation acc values\n",
    "plt.figure(figsize=(30, 5))\n",
    "plt.subplot(121)\n",
    "plt.plot(model2.history.history['accuracy'])\n",
    "plt.plot(model2.history.history['val_accuracy'])\n",
    "plt.title('Model Accuracy')\n",
    "plt.ylabel('Accuracy')\n",
    "plt.xlabel('Epoch')\n",
    "plt.legend(['Train', 'Test'], loc='upper left')\n",
    "\n",
    "# Plot training & validation loss values\n",
    "plt.subplot(122)\n",
    "plt.plot(model2.history.history['loss'])\n",
    "plt.plot(model2.history.history['val_loss'])\n",
    "plt.title('Model loss')\n",
    "plt.ylabel('Loss')\n",
    "plt.xlabel('Epoch')\n",
    "plt.legend(['Train', 'Test'], loc='upper left')\n",
    "\n",
    "plt.show()"
   ]
  },
  {
   "cell_type": "code",
   "execution_count": 14,
   "metadata": {
    "colab": {
     "base_uri": "https://localhost:8080/"
    },
    "id": "4b0UPNxUBx66",
    "outputId": "d6d962ff-23a4-4eb1-bce0-8623b38edabe"
   },
   "outputs": [
    {
     "name": "stdout",
     "output_type": "stream",
     "text": [
      "Found 968 images belonging to 4 classes.\n",
      "8/8 [==============================] - 13s 2s/step - loss: 0.1103 - accuracy: 0.9638\n",
      "Accuracy on Test Dataset:96.38429880142212, Loss on Test Dataset: 0.11026882380247116\n"
     ]
    }
   ],
   "source": [
    "# Accuracy on test dataset\n",
    "\n",
    "test_generator = datagen.flow_from_directory(\n",
    "    \"/OCT2017 /test\",\n",
    "    target_size = (224, 224),\n",
    "    batch_size=128,\n",
    "    class_mode = \"categorical\",\n",
    "    shuffle = False)\n",
    "test_samples = 968\n",
    "batch_size = 128\n",
    "\n",
    "result = model2.evaluate(test_generator, steps = test_samples // batch_size+1, verbose = 1)\n",
    "print(\"Accuracy on Test Dataset:{0}, Loss on Test Dataset: {1}\".format(result[1]*100,result[0]))"
   ]
  },
  {
   "cell_type": "code",
   "execution_count": 15,
   "metadata": {
    "colab": {
     "base_uri": "https://localhost:8080/",
     "height": 295
    },
    "id": "VY-mqqNbAhtz",
    "outputId": "5baee339-f1c1-42f0-bf47-27b0f0b8f25a"
   },
   "outputs": [
    {
     "data": {
      "image/png": "[encoded data removed]",
      "text/plain": [
       "<Figure size 432x288 with 2 Axes>"
      ]
     },
     "metadata": {
      "needs_background": "light"
     },
     "output_type": "display_data"
    }
   ],
   "source": [
    "# Plot Confusion Matrix\n",
    "\n",
    "# predicted values\n",
    "y_pred = model2.predict(test_generator, test_samples // batch_size+1)\n",
    "predicted_values = np.argmax(y_pred, axis=1)\n",
    "\n",
    "confusionmatrix = confusion_matrix(test_generator.classes,predicted_values)\n",
    "plt.title(\"7 Layer CNN without Image Augmentation\")\n",
    "sns.heatmap(confusionmatrix, annot=True, cmap=\"YlGnBu\")\n",
    "plt.xlabel('Predicted Values')\n",
    "plt.ylabel('Actual Values')\n",
    "plt.show()"
   ]
  },
  {
   "attachments": {},
   "cell_type": "markdown",
   "metadata": {
    "id": "-ayh0Db9SKlG"
   },
   "source": [
    "**Observations**\n",
    "\n",
    "We are getting an accuracy of 0.96 on the test dataset using 7 Layers CNN Model with Image Augmentation."
   ]
  },
  {
   "cell_type": "code",
   "execution_count": null,
   "metadata": {
    "id": "uNm7-2o9AsAQ"
   },
   "outputs": [],
   "source": []
  }
 ],
 "metadata": {
  "accelerator": "GPU",
  "colab": {
   "collapsed_sections": [],
   "machine_shape": "hm",
   "name": "03 7CNN with Image Augmentation.ipynb",
   "provenance": []
  },
  "kernelspec": {
   "display_name": "Python 3",
   "language": "python",
   "name": "python3"
  },
  "language_info": {
   "codemirror_mode": {
    "name": "ipython",
    "version": 3
   },
   "file_extension": ".py",
   "mimetype": "text/x-python",
   "name": "python",
   "nbconvert_exporter": "python",
   "pygments_lexer": "ipython3",
   "version": "3.8.8"
  }
 },
 "nbformat": 4,
 "nbformat_minor": 1
}
